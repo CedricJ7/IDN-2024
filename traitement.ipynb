{
 "cells": [
  {
   "cell_type": "markdown",
   "metadata": {},
   "source": [
    "Importez les données et affichez les 5 premières lignes."
   ]
  },
  {
   "cell_type": "code",
   "execution_count": 3,
   "metadata": {},
   "outputs": [
    {
     "data": {
      "text/plain": [
       "2198"
      ]
     },
     "execution_count": 3,
     "metadata": {},
     "output_type": "execute_result"
    }
   ],
   "source": [
    "import pandas as pd\n",
    "import numpy as np\n",
    "import matplotlib.pyplot as plt\n",
    "\n",
    "d=pd.read_csv('content.csv',sep='\\t')\n",
    "d.head()\n",
    "len(d)"
   ]
  },
  {
   "cell_type": "markdown",
   "metadata": {},
   "source": [
    "1- Les données : \n",
    "Filtrez les Usernames pour conservez ceux qui apparaissent au moins 10 fois dans la base de données, et gardez seulement 10 itérations par Username."
   ]
  },
  {
   "cell_type": "code",
   "execution_count": 4,
   "metadata": {},
   "outputs": [
    {
     "name": "stdout",
     "output_type": "stream",
     "text": [
      "Username\n",
      "1      10\n",
      "70     10\n",
      "81     10\n",
      "80     10\n",
      "79     10\n",
      "       ..\n",
      "34     10\n",
      "33     10\n",
      "32     10\n",
      "31     10\n",
      "110    10\n",
      "Name: count, Length: 110, dtype: int64\n"
     ]
    }
   ],
   "source": [
    "## garder seulement les Usernames apparaissant plus de 10 fois et selement les 10 premières apparitions des Usernames (>=10)\n",
    "import csv\n",
    "def Tri_10_user(dataframe):\n",
    "    for i in range(1,len(dataframe['Username'].unique())):\n",
    "        if dataframe['Username'].value_counts()[i] < 10:\n",
    "            dataframe = dataframe[dataframe['Username'] != dataframe['Username'].unique()[i]]\n",
    "    dataframe = dataframe.groupby('Username', sort=False).head(10) \n",
    "    return dataframe\n",
    "\n",
    "d=(Tri_10_user(d))\n",
    "\n",
    "print(d['Username'].value_counts()) # on a bien 10 enregistrements par Username\n",
    "d.to_csv('content_10.csv', sep='\\t', index=False)\n"
   ]
  },
  {
   "cell_type": "markdown",
   "metadata": {},
   "source": [
    "2- Les scores : Définition de 50% de référence et 50% comme échantillon"
   ]
  },
  {
   "cell_type": "code",
   "execution_count": 5,
   "metadata": {},
   "outputs": [
    {
     "data": {
      "text/plain": [
       "(Username\n",
       " 1      5\n",
       " 70     5\n",
       " 81     5\n",
       " 80     5\n",
       " 79     5\n",
       "       ..\n",
       " 34     5\n",
       " 33     5\n",
       " 32     5\n",
       " 31     5\n",
       " 110    5\n",
       " Name: count, Length: 110, dtype: int64,\n",
       " Username\n",
       " 1      5\n",
       " 70     5\n",
       " 81     5\n",
       " 80     5\n",
       " 79     5\n",
       "       ..\n",
       " 34     5\n",
       " 33     5\n",
       " 32     5\n",
       " 31     5\n",
       " 110    5\n",
       " Name: count, Length: 110, dtype: int64)"
      ]
     },
     "execution_count": 5,
     "metadata": {},
     "output_type": "execute_result"
    }
   ],
   "source": [
    "def separation(d):\n",
    "    d1, d2 = d.groupby('Username',sort = False).head(5), d.groupby('Username',sort=False).tail(5)\n",
    "    return d1, d2\n",
    "\n",
    "d1, d2 = separation(d)\n",
    "len(d1), len(d2)\n",
    "d1[\"Username\"].value_counts(), d2[\"Username\"].value_counts()\n"
   ]
  },
  {
   "cell_type": "markdown",
   "metadata": {},
   "source": [
    "3- Normalisation des données"
   ]
  },
  {
   "cell_type": "code",
   "execution_count": 6,
   "metadata": {},
   "outputs": [],
   "source": [
    "# d1_mean = np.mean(d1,axis=1) #mettre les colonnes numériques #axis=1 pour les lignes donc par individu \n",
    "# d1_sd = np.std(d1,axis=1)"
   ]
  },
  {
   "cell_type": "code",
   "execution_count": 7,
   "metadata": {},
   "outputs": [],
   "source": [
    "def distance(ech1, ech2):\n",
    "    \n",
    "    mesures1 = pd.to_numeric(ech1[5:])\n",
    "    mesures2 = pd.to_numeric(ech2[5:])\n",
    "    \n",
    "    \n",
    "    # Calculer la distance euclidienne entre les mesures\n",
    "    return np.linalg.norm(mesures1 - mesures2)"
   ]
  },
  {
   "cell_type": "markdown",
   "metadata": {},
   "source": [
    "Distance et score de similarité(moyen)"
   ]
  },
  {
   "cell_type": "code",
   "execution_count": 8,
   "metadata": {},
   "outputs": [
    {
     "data": {
      "text/plain": [
       "377.48755065128995"
      ]
     },
     "execution_count": 8,
     "metadata": {},
     "output_type": "execute_result"
    }
   ],
   "source": [
    "# distance(d1.loc[1],d1.loc[2]) #test\n",
    "\n",
    "def score(refs, test):\n",
    "    distances = []\n",
    "    for i in refs:\n",
    "        ref = d1.loc[i]\n",
    "        distances.append(distance(ref, test))\n",
    "    return np.mean(distances)\n",
    "\n",
    "\n",
    "score((0,1,2,3,4),d2.loc[5]) #test\n"
   ]
  },
  {
   "cell_type": "markdown",
   "metadata": {},
   "source": [
    "FAR FRR au seuil basé sur la moyenne intra individu "
   ]
  },
  {
   "cell_type": "code",
   "execution_count": 9,
   "metadata": {},
   "outputs": [],
   "source": [
    "def score_intra(id):\n",
    "    scores = dict()\n",
    "    for i in len(d1[\"Username\"].unique()):\n",
    "        scores[i] = min(score(d1.loc[i],d2.loc[i]))\n",
    "    return scores\n"
   ]
  },
  {
   "cell_type": "code",
   "execution_count": 10,
   "metadata": {},
   "outputs": [
    {
     "data": {
      "text/plain": [
       "RangeIndex(start=0, stop=550, step=1)"
      ]
     },
     "execution_count": 10,
     "metadata": {},
     "output_type": "execute_result"
    }
   ],
   "source": [
    "def FAR(refs, seuil):\n",
    "    for i in range(len(d2)):\n",
    "        if score(refs,d2.loc[i]) < seuil:\n",
    "            return False\n",
    "    \n",
    "    return \n",
    "\n",
    "\n",
    "#comment mettre les noms de lignes de 1 à leng(d1) dans d1\n",
    "d1.index = range(len(d1))\n",
    "d2.index = range(len(d2))\n",
    "d1.index"
   ]
  },
  {
   "cell_type": "code",
   "execution_count": 73,
   "metadata": {},
   "outputs": [],
   "source": [
    "#testez les distances entre chaque echantillon de meme Username dans d1\n",
    "import math\n",
    "distances = list()\n",
    "for i in range(len(d1)):\n",
    "    for j in range(5):\n",
    "        distances.append(distance(d1.loc[i],d1.loc[j]))\n",
    "        # print(\"distance entre \",i,\" et \",j, \" : \", distance(d1.loc[i],d1.loc[j]))        #affichez les distances \n",
    "\n"
   ]
  },
  {
   "cell_type": "code",
   "execution_count": 14,
   "metadata": {},
   "outputs": [
    {
     "name": "stdout",
     "output_type": "stream",
     "text": [
      "FAR: 0.4029124270225188\n"
     ]
    }
   ],
   "source": [
    "import pandas as pd\n",
    "import numpy as np\n",
    "\n",
    "def calculate_intra_user_thresholds(d1):\n",
    "    \"\"\"\n",
    "    Calcule les seuils intra-utilisateurs basés sur les distances moyennes entre leurs échantillons dans d1.\n",
    "    \"\"\"\n",
    "    thresholds = {}\n",
    "    for username, group in d1.groupby('Username'):\n",
    "        distances = []\n",
    "        for i in range(len(group)):\n",
    "            for j in range(i + 1, len(group)):\n",
    "                distance = np.linalg.norm(pd.to_numeric(group.iloc[i][5:]) - pd.to_numeric(group.iloc[j][5:]))\n",
    "                distances.append(distance)\n",
    "        if distances:\n",
    "            thresholds[username] = np.mean(distances)\n",
    "    return thresholds\n",
    "\n",
    "def FAR(d1, d2, thresholds):\n",
    "    false_accepts = 0\n",
    "    total_comparisons = 0\n",
    "    \n",
    "    for i, row_i in d2.iterrows():\n",
    "        test_user = row_i['Username']\n",
    "        test_measurements = pd.to_numeric(row_i[5:])\n",
    "        \n",
    "        for ref_user, ref_threshold in thresholds.items():\n",
    "            if test_user != ref_user:  # Comparer seulement avec d'autres utilisateurs\n",
    "                for _, ref_row in d1[d1['Username'] == ref_user].iterrows():\n",
    "                    ref_measurements = pd.to_numeric(ref_row[5:])\n",
    "                    distance = np.linalg.norm(ref_measurements - test_measurements)\n",
    "                    \n",
    "                    if distance < ref_threshold:\n",
    "                        false_accepts += 1\n",
    "                    total_comparisons += 1\n",
    "    \n",
    "    far = false_accepts / total_comparisons if total_comparisons > 0 else 0\n",
    "    return far\n",
    "\n",
    "# Préparation des dataframes d1 et d2\n",
    "# d1, d2 = ...\n",
    "\n",
    "# Calcul des seuils intra-utilisateurs pour d1\n",
    "thresholds = calculate_intra_user_thresholds(d1)\n",
    "\n",
    "# Calcul du FAR\n",
    "far_value = FAR(d1, d2, thresholds)\n",
    "print(f\"FAR: {far_value}\")"
   ]
  },
  {
   "cell_type": "code",
   "execution_count": 16,
   "metadata": {},
   "outputs": [
    {
     "name": "stdout",
     "output_type": "stream",
     "text": [
      "FRR: 0.09454545454545454\n"
     ]
    }
   ],
   "source": [
    "def FRR(d1, d2, thresholds):\n",
    "    false_rejections = 0\n",
    "    total_tests = 0\n",
    "    \n",
    "    for test_username, group in d2.groupby('Username'):\n",
    "        if test_username in thresholds:  # Assurez-vous que l'utilisateur est dans d1 et a un seuil calculé\n",
    "            ref_threshold = thresholds[test_username]\n",
    "            for i, test_row in group.iterrows():\n",
    "                test_measurements = pd.to_numeric(test_row[5:])\n",
    "                distances = []\n",
    "                \n",
    "                # Calculer les distances seulement avec les échantillons de d1 pour le même utilisateur\n",
    "                for _, ref_row in d1[d1['Username'] == test_username].iterrows():\n",
    "                    ref_measurements = pd.to_numeric(ref_row[5:])\n",
    "                    distance = np.linalg.norm(ref_measurements - test_measurements)\n",
    "                    distances.append(distance)\n",
    "                \n",
    "                # Si toutes les distances sont supérieures au seuil, c'est une fausse réjection\n",
    "                if all(d > ref_threshold for d in distances):\n",
    "                    false_rejections += 1\n",
    "                total_tests += 1\n",
    "    \n",
    "    frr = false_rejections / total_tests if total_tests > 0 else 0\n",
    "    return frr\n",
    "\n",
    "# Utiliser les mêmes seuils intra-utilisateurs calculés précédemment\n",
    "# thresholds = calculate_intra_user_thresholds(d1)\n",
    "\n",
    "# Calcul du FRR\n",
    "frr_value = FRR(d1, d2, thresholds)\n",
    "print(f\"FRR: {frr_value}\")\n"
   ]
  },
  {
   "cell_type": "code",
   "execution_count": 72,
   "metadata": {},
   "outputs": [
    {
     "data": {
      "image/png": "[encoded data removed]",
      "text/plain": [
       "<Figure size 1000x600 with 1 Axes>"
      ]
     },
     "metadata": {},
     "output_type": "display_data"
    }
   ],
   "source": [
    "import numpy as np\n",
    "import matplotlib.pyplot as plt\n",
    "\n",
    "def calculate_distance_scores(d1):\n",
    "    \"\"\"\n",
    "    Calcule tous les scores de distance entre les échantillons de d1.\n",
    "    \"\"\"\n",
    "    scores = []\n",
    "    for username, group in d1.groupby('Username'):\n",
    "        for i in range(len(group)):\n",
    "            for j in range(i + 1, len(group)):\n",
    "                distance = np.linalg.norm(pd.to_numeric(group.iloc[i][5:]) - pd.to_numeric(group.iloc[j][5:]))\n",
    "                scores.append(distance)\n",
    "    return scores\n",
    "\n",
    "########## 10 minutes d'execution environ\n",
    "def ROC(d1, d2):\n",
    "    # Calculer tous les scores de distance pour déterminer les seuils\n",
    "    distance_scores = calculate_distance_scores(d1)\n",
    "    min_score, max_score = min(distance_scores), max(distance_scores)\n",
    "    \n",
    "    # Inclure les points (0,1) et (1,0)\n",
    "    far_values = [1]\n",
    "    frr_values = [0]\n",
    "    \n",
    "    # Calculer FAR et FRR pour une série de seuils\n",
    "    for threshold in np.linspace(min_score, max_score, 10):\n",
    "        far = FAR(d1, d2, {k: threshold for k in thresholds})\n",
    "        frr = FRR(d1, d2, {k: threshold for k in thresholds})\n",
    "        far_values.append(far)\n",
    "        frr_values.append(frr)\n",
    "    \n",
    "    # Ajouter les points extrêmes de la courbe ROC\n",
    "    far_values.append(0)\n",
    "    frr_values.append(1)\n",
    "    \n",
    "    return far_values, frr_values\n",
    "\n",
    "# Calcul de la courbe ROC\n",
    "far_values, frr_values = ROC(d1, d2)\n",
    "\n",
    "# Tracé de la courbe ROC\n",
    "plt.figure(figsize=(10, 6))\n",
    "plt.plot(frr_values, far_values, marker='o')\n",
    "plt.xlabel('False Acceptance Rate (FAR)')\n",
    "plt.ylabel('False Rejection Rate (FRR)')\n",
    "plt.title('ROC')\n",
    "plt.grid(True)\n",
    "plt.xlim(0, 1)\n",
    "plt.ylim(0, 1)\n",
    "plt.show()\n"
   ]
  },
  {
   "cell_type": "code",
   "execution_count": null,
   "metadata": {},
   "outputs": [
    {
     "ename": "IndexError",
     "evalue": "list index out of range",
     "output_type": "error",
     "traceback": [
      "\u001b[1;31m---------------------------------------------------------------------------\u001b[0m",
      "\u001b[1;31mIndexError\u001b[0m                                Traceback (most recent call last)",
      "Cell \u001b[1;32mIn[70], line 7\u001b[0m\n\u001b[0;32m      4\u001b[0m         auc \u001b[38;5;241m+\u001b[39m\u001b[38;5;241m=\u001b[39m (far_values[i] \u001b[38;5;241m-\u001b[39m far_values[i \u001b[38;5;241m-\u001b[39m \u001b[38;5;241m1\u001b[39m]) \u001b[38;5;241m*\u001b[39m (frr_values[i] \u001b[38;5;241m+\u001b[39m frr_values[i \u001b[38;5;241m-\u001b[39m \u001b[38;5;241m1\u001b[39m]) \u001b[38;5;241m/\u001b[39m \u001b[38;5;241m2\u001b[39m\n\u001b[0;32m      5\u001b[0m     \u001b[38;5;28;01mreturn\u001b[39;00m auc\n\u001b[1;32m----> 7\u001b[0m \u001b[43mAUC\u001b[49m\u001b[43m(\u001b[49m\u001b[43mfar_values\u001b[49m\u001b[43m,\u001b[49m\u001b[43m \u001b[49m\u001b[43mfrr_values\u001b[49m\u001b[43m)\u001b[49m\n\u001b[0;32m      8\u001b[0m \u001b[38;5;28mmin\u001b[39m(thresholds)\n\u001b[0;32m      9\u001b[0m \u001b[38;5;28mmin\u001b[39m(thresholds\u001b[38;5;241m.\u001b[39mvalues())\n",
      "Cell \u001b[1;32mIn[70], line 4\u001b[0m, in \u001b[0;36mAUC\u001b[1;34m(far_values, frr_values)\u001b[0m\n\u001b[0;32m      2\u001b[0m auc \u001b[38;5;241m=\u001b[39m \u001b[38;5;241m0\u001b[39m\n\u001b[0;32m      3\u001b[0m \u001b[38;5;28;01mfor\u001b[39;00m i \u001b[38;5;129;01min\u001b[39;00m \u001b[38;5;28mrange\u001b[39m(\u001b[38;5;241m1\u001b[39m, \u001b[38;5;28mlen\u001b[39m(far_values)):\n\u001b[1;32m----> 4\u001b[0m     auc \u001b[38;5;241m+\u001b[39m\u001b[38;5;241m=\u001b[39m (far_values[i] \u001b[38;5;241m-\u001b[39m far_values[i \u001b[38;5;241m-\u001b[39m \u001b[38;5;241m1\u001b[39m]) \u001b[38;5;241m*\u001b[39m (\u001b[43mfrr_values\u001b[49m\u001b[43m[\u001b[49m\u001b[43mi\u001b[49m\u001b[43m]\u001b[49m \u001b[38;5;241m+\u001b[39m frr_values[i \u001b[38;5;241m-\u001b[39m \u001b[38;5;241m1\u001b[39m]) \u001b[38;5;241m/\u001b[39m \u001b[38;5;241m2\u001b[39m\n\u001b[0;32m      5\u001b[0m \u001b[38;5;28;01mreturn\u001b[39;00m auc\n",
      "\u001b[1;31mIndexError\u001b[0m: list index out of range"
     ]
    }
   ],
   "source": [
    "def AUC(far_values, frr_values):\n",
    "    auc = 0\n",
    "    for i in range(1, len(far_values)):\n",
    "        auc += (far_values[i] - far_values[i - 1]) * (frr_values[i] + frr_values[i - 1]) / 2\n",
    "    return auc\n",
    "\n",
    "AUC(far_values, frr_values)\n",
    "# min(thresholds)\n",
    "# min(thresholds.values())\n",
    "# max((thresholds).values())\n",
    "# min_value = min(thresholds.values())\n",
    "# max_value = max(thresholds.values())\n"
   ]
  },
  {
   "cell_type": "code",
   "execution_count": 69,
   "metadata": {},
   "outputs": [
    {
     "ename": "ValueError",
     "evalue": "x and y must have same first dimension, but have shapes (7,) and (8,)",
     "output_type": "error",
     "traceback": [
      "\u001b[1;31m---------------------------------------------------------------------------\u001b[0m",
      "\u001b[1;31mValueError\u001b[0m                                Traceback (most recent call last)",
      "Cell \u001b[1;32mIn[69], line 3\u001b[0m\n\u001b[0;32m      1\u001b[0m \u001b[38;5;66;03m# Tracé de la courbe ROC\u001b[39;00m\n\u001b[0;32m      2\u001b[0m plt\u001b[38;5;241m.\u001b[39mfigure(figsize\u001b[38;5;241m=\u001b[39m(\u001b[38;5;241m10\u001b[39m, \u001b[38;5;241m6\u001b[39m))\n\u001b[1;32m----> 3\u001b[0m \u001b[43mplt\u001b[49m\u001b[38;5;241;43m.\u001b[39;49m\u001b[43mplot\u001b[49m\u001b[43m(\u001b[49m\u001b[43mfrr_values\u001b[49m\u001b[43m,\u001b[49m\u001b[43m \u001b[49m\u001b[43mfar_values\u001b[49m\u001b[43m,\u001b[49m\u001b[43m \u001b[49m\u001b[43mmarker\u001b[49m\u001b[38;5;241;43m=\u001b[39;49m\u001b[38;5;124;43m'\u001b[39;49m\u001b[38;5;124;43mo\u001b[39;49m\u001b[38;5;124;43m'\u001b[39;49m\u001b[43m)\u001b[49m\n\u001b[0;32m      4\u001b[0m plt\u001b[38;5;241m.\u001b[39mxlabel(\u001b[38;5;124m'\u001b[39m\u001b[38;5;124mFalse Acceptance Rate (FAR)\u001b[39m\u001b[38;5;124m'\u001b[39m)\n\u001b[0;32m      5\u001b[0m plt\u001b[38;5;241m.\u001b[39mylabel(\u001b[38;5;124m'\u001b[39m\u001b[38;5;124mFalse Rejection Rate (FRR)\u001b[39m\u001b[38;5;124m'\u001b[39m)\n",
      "File \u001b[1;32mc:\\Users\\cedri\\AppData\\Local\\Programs\\Python\\Python312\\Lib\\site-packages\\matplotlib\\pyplot.py:3575\u001b[0m, in \u001b[0;36mplot\u001b[1;34m(scalex, scaley, data, *args, **kwargs)\u001b[0m\n\u001b[0;32m   3567\u001b[0m \u001b[38;5;129m@_copy_docstring_and_deprecators\u001b[39m(Axes\u001b[38;5;241m.\u001b[39mplot)\n\u001b[0;32m   3568\u001b[0m \u001b[38;5;28;01mdef\u001b[39;00m \u001b[38;5;21mplot\u001b[39m(\n\u001b[0;32m   3569\u001b[0m     \u001b[38;5;241m*\u001b[39margs: \u001b[38;5;28mfloat\u001b[39m \u001b[38;5;241m|\u001b[39m ArrayLike \u001b[38;5;241m|\u001b[39m \u001b[38;5;28mstr\u001b[39m,\n\u001b[1;32m   (...)\u001b[0m\n\u001b[0;32m   3573\u001b[0m     \u001b[38;5;241m*\u001b[39m\u001b[38;5;241m*\u001b[39mkwargs,\n\u001b[0;32m   3574\u001b[0m ) \u001b[38;5;241m-\u001b[39m\u001b[38;5;241m>\u001b[39m \u001b[38;5;28mlist\u001b[39m[Line2D]:\n\u001b[1;32m-> 3575\u001b[0m     \u001b[38;5;28;01mreturn\u001b[39;00m \u001b[43mgca\u001b[49m\u001b[43m(\u001b[49m\u001b[43m)\u001b[49m\u001b[38;5;241;43m.\u001b[39;49m\u001b[43mplot\u001b[49m\u001b[43m(\u001b[49m\n\u001b[0;32m   3576\u001b[0m \u001b[43m        \u001b[49m\u001b[38;5;241;43m*\u001b[39;49m\u001b[43margs\u001b[49m\u001b[43m,\u001b[49m\n\u001b[0;32m   3577\u001b[0m \u001b[43m        \u001b[49m\u001b[43mscalex\u001b[49m\u001b[38;5;241;43m=\u001b[39;49m\u001b[43mscalex\u001b[49m\u001b[43m,\u001b[49m\n\u001b[0;32m   3578\u001b[0m \u001b[43m        \u001b[49m\u001b[43mscaley\u001b[49m\u001b[38;5;241;43m=\u001b[39;49m\u001b[43mscaley\u001b[49m\u001b[43m,\u001b[49m\n\u001b[0;32m   3579\u001b[0m \u001b[43m        \u001b[49m\u001b[38;5;241;43m*\u001b[39;49m\u001b[38;5;241;43m*\u001b[39;49m\u001b[43m(\u001b[49m\u001b[43m{\u001b[49m\u001b[38;5;124;43m\"\u001b[39;49m\u001b[38;5;124;43mdata\u001b[39;49m\u001b[38;5;124;43m\"\u001b[39;49m\u001b[43m:\u001b[49m\u001b[43m \u001b[49m\u001b[43mdata\u001b[49m\u001b[43m}\u001b[49m\u001b[43m \u001b[49m\u001b[38;5;28;43;01mif\u001b[39;49;00m\u001b[43m \u001b[49m\u001b[43mdata\u001b[49m\u001b[43m \u001b[49m\u001b[38;5;129;43;01mis\u001b[39;49;00m\u001b[43m \u001b[49m\u001b[38;5;129;43;01mnot\u001b[39;49;00m\u001b[43m \u001b[49m\u001b[38;5;28;43;01mNone\u001b[39;49;00m\u001b[43m \u001b[49m\u001b[38;5;28;43;01melse\u001b[39;49;00m\u001b[43m \u001b[49m\u001b[43m{\u001b[49m\u001b[43m}\u001b[49m\u001b[43m)\u001b[49m\u001b[43m,\u001b[49m\n\u001b[0;32m   3580\u001b[0m \u001b[43m        \u001b[49m\u001b[38;5;241;43m*\u001b[39;49m\u001b[38;5;241;43m*\u001b[39;49m\u001b[43mkwargs\u001b[49m\u001b[43m,\u001b[49m\n\u001b[0;32m   3581\u001b[0m \u001b[43m    \u001b[49m\u001b[43m)\u001b[49m\n",
      "File \u001b[1;32mc:\\Users\\cedri\\AppData\\Local\\Programs\\Python\\Python312\\Lib\\site-packages\\matplotlib\\axes\\_axes.py:1721\u001b[0m, in \u001b[0;36mAxes.plot\u001b[1;34m(self, scalex, scaley, data, *args, **kwargs)\u001b[0m\n\u001b[0;32m   1478\u001b[0m \u001b[38;5;250m\u001b[39m\u001b[38;5;124;03m\"\"\"\u001b[39;00m\n\u001b[0;32m   1479\u001b[0m \u001b[38;5;124;03mPlot y versus x as lines and/or markers.\u001b[39;00m\n\u001b[0;32m   1480\u001b[0m \n\u001b[1;32m   (...)\u001b[0m\n\u001b[0;32m   1718\u001b[0m \u001b[38;5;124;03m(``'green'``) or hex strings (``'#008000'``).\u001b[39;00m\n\u001b[0;32m   1719\u001b[0m \u001b[38;5;124;03m\"\"\"\u001b[39;00m\n\u001b[0;32m   1720\u001b[0m kwargs \u001b[38;5;241m=\u001b[39m cbook\u001b[38;5;241m.\u001b[39mnormalize_kwargs(kwargs, mlines\u001b[38;5;241m.\u001b[39mLine2D)\n\u001b[1;32m-> 1721\u001b[0m lines \u001b[38;5;241m=\u001b[39m [\u001b[38;5;241m*\u001b[39m\u001b[38;5;28mself\u001b[39m\u001b[38;5;241m.\u001b[39m_get_lines(\u001b[38;5;28mself\u001b[39m, \u001b[38;5;241m*\u001b[39margs, data\u001b[38;5;241m=\u001b[39mdata, \u001b[38;5;241m*\u001b[39m\u001b[38;5;241m*\u001b[39mkwargs)]\n\u001b[0;32m   1722\u001b[0m \u001b[38;5;28;01mfor\u001b[39;00m line \u001b[38;5;129;01min\u001b[39;00m lines:\n\u001b[0;32m   1723\u001b[0m     \u001b[38;5;28mself\u001b[39m\u001b[38;5;241m.\u001b[39madd_line(line)\n",
      "File \u001b[1;32mc:\\Users\\cedri\\AppData\\Local\\Programs\\Python\\Python312\\Lib\\site-packages\\matplotlib\\axes\\_base.py:303\u001b[0m, in \u001b[0;36m_process_plot_var_args.__call__\u001b[1;34m(self, axes, data, *args, **kwargs)\u001b[0m\n\u001b[0;32m    301\u001b[0m     this \u001b[38;5;241m+\u001b[39m\u001b[38;5;241m=\u001b[39m args[\u001b[38;5;241m0\u001b[39m],\n\u001b[0;32m    302\u001b[0m     args \u001b[38;5;241m=\u001b[39m args[\u001b[38;5;241m1\u001b[39m:]\n\u001b[1;32m--> 303\u001b[0m \u001b[38;5;28;01myield from\u001b[39;00m \u001b[38;5;28;43mself\u001b[39;49m\u001b[38;5;241;43m.\u001b[39;49m\u001b[43m_plot_args\u001b[49m\u001b[43m(\u001b[49m\n\u001b[0;32m    304\u001b[0m \u001b[43m    \u001b[49m\u001b[43maxes\u001b[49m\u001b[43m,\u001b[49m\u001b[43m \u001b[49m\u001b[43mthis\u001b[49m\u001b[43m,\u001b[49m\u001b[43m \u001b[49m\u001b[43mkwargs\u001b[49m\u001b[43m,\u001b[49m\u001b[43m \u001b[49m\u001b[43mambiguous_fmt_datakey\u001b[49m\u001b[38;5;241;43m=\u001b[39;49m\u001b[43mambiguous_fmt_datakey\u001b[49m\u001b[43m)\u001b[49m\n",
      "File \u001b[1;32mc:\\Users\\cedri\\AppData\\Local\\Programs\\Python\\Python312\\Lib\\site-packages\\matplotlib\\axes\\_base.py:499\u001b[0m, in \u001b[0;36m_process_plot_var_args._plot_args\u001b[1;34m(self, axes, tup, kwargs, return_kwargs, ambiguous_fmt_datakey)\u001b[0m\n\u001b[0;32m    496\u001b[0m     axes\u001b[38;5;241m.\u001b[39myaxis\u001b[38;5;241m.\u001b[39mupdate_units(y)\n\u001b[0;32m    498\u001b[0m \u001b[38;5;28;01mif\u001b[39;00m x\u001b[38;5;241m.\u001b[39mshape[\u001b[38;5;241m0\u001b[39m] \u001b[38;5;241m!=\u001b[39m y\u001b[38;5;241m.\u001b[39mshape[\u001b[38;5;241m0\u001b[39m]:\n\u001b[1;32m--> 499\u001b[0m     \u001b[38;5;28;01mraise\u001b[39;00m \u001b[38;5;167;01mValueError\u001b[39;00m(\u001b[38;5;124mf\u001b[39m\u001b[38;5;124m\"\u001b[39m\u001b[38;5;124mx and y must have same first dimension, but \u001b[39m\u001b[38;5;124m\"\u001b[39m\n\u001b[0;32m    500\u001b[0m                      \u001b[38;5;124mf\u001b[39m\u001b[38;5;124m\"\u001b[39m\u001b[38;5;124mhave shapes \u001b[39m\u001b[38;5;132;01m{\u001b[39;00mx\u001b[38;5;241m.\u001b[39mshape\u001b[38;5;132;01m}\u001b[39;00m\u001b[38;5;124m and \u001b[39m\u001b[38;5;132;01m{\u001b[39;00my\u001b[38;5;241m.\u001b[39mshape\u001b[38;5;132;01m}\u001b[39;00m\u001b[38;5;124m\"\u001b[39m)\n\u001b[0;32m    501\u001b[0m \u001b[38;5;28;01mif\u001b[39;00m x\u001b[38;5;241m.\u001b[39mndim \u001b[38;5;241m>\u001b[39m \u001b[38;5;241m2\u001b[39m \u001b[38;5;129;01mor\u001b[39;00m y\u001b[38;5;241m.\u001b[39mndim \u001b[38;5;241m>\u001b[39m \u001b[38;5;241m2\u001b[39m:\n\u001b[0;32m    502\u001b[0m     \u001b[38;5;28;01mraise\u001b[39;00m \u001b[38;5;167;01mValueError\u001b[39;00m(\u001b[38;5;124mf\u001b[39m\u001b[38;5;124m\"\u001b[39m\u001b[38;5;124mx and y can be no greater than 2D, but have \u001b[39m\u001b[38;5;124m\"\u001b[39m\n\u001b[0;32m    503\u001b[0m                      \u001b[38;5;124mf\u001b[39m\u001b[38;5;124m\"\u001b[39m\u001b[38;5;124mshapes \u001b[39m\u001b[38;5;132;01m{\u001b[39;00mx\u001b[38;5;241m.\u001b[39mshape\u001b[38;5;132;01m}\u001b[39;00m\u001b[38;5;124m and \u001b[39m\u001b[38;5;132;01m{\u001b[39;00my\u001b[38;5;241m.\u001b[39mshape\u001b[38;5;132;01m}\u001b[39;00m\u001b[38;5;124m\"\u001b[39m)\n",
      "\u001b[1;31mValueError\u001b[0m: x and y must have same first dimension, but have shapes (7,) and (8,)"
     ]
    },
    {
     "data": {
      "image/png": "[encoded data removed]",
      "text/plain": [
       "<Figure size 1000x600 with 1 Axes>"
      ]
     },
     "metadata": {},
     "output_type": "display_data"
    }
   ],
   "source": [
    "\n",
    "# Tracé de la courbe ROC\n",
    "plt.figure(figsize=(10, 6))\n",
    "plt.plot(frr_values, far_values, marker='o')\n",
    "plt.xlabel('False Acceptance Rate (FAR)')\n",
    "plt.ylabel('False Rejection Rate (FRR)')\n",
    "plt.title('ROC')\n",
    "plt.grid(True)\n",
    "plt.xlim(0, 1)\n",
    "plt.ylim(0, 1)\n",
    "plt.plot([0, 1], [0, 1], linestyle='--', color='gray')\n",
    "plt.show()\n",
    "\n"
   ]
  }
 ],
 "metadata": {
  "kernelspec": {
   "display_name": "Python 3",
   "language": "python",
   "name": "python3"
  },
  "language_info": {
   "codemirror_mode": {
    "name": "ipython",
    "version": 3
   },
   "file_extension": ".py",
   "mimetype": "text/x-python",
   "name": "python",
   "nbconvert_exporter": "python",
   "pygments_lexer": "ipython3",
   "version": "3.12.1"
  }
 },
 "nbformat": 4,
 "nbformat_minor": 2
}
